{
 "cells": [
  {
   "cell_type": "markdown",
   "metadata": {},
   "source": [
    "# Discrete choice example"
   ]
  },
  {
   "cell_type": "markdown",
   "metadata": {},
   "source": [
    "This notebook shows how we calculate the number of passengers traveling from champaign to chicago when the distribution of $v$ is logistic. It's solving the example in the second lecture on demand curves. In your homework, you have to do a double integral. Use the function https://docs.scipy.org/doc/scipy/reference/generated/scipy.integrate.dblquad.html to do that."
   ]
  },
  {
   "cell_type": "markdown",
   "metadata": {},
   "source": [
    "As a reminder, remember that we had the demand function\n",
    "$$\n",
    "Q(p) = \\lambda \\cdot \\int_{t\\phi + p}^\\infty f(v) dv\n",
    "$$\n",
    "so that we measure the total number of people with $v>t\\phi + p$."
   ]
  },
  {
   "cell_type": "markdown",
   "metadata": {},
   "source": [
    "First we import the libraries and functions we need."
   ]
  },
  {
   "cell_type": "code",
   "execution_count": 2,
   "metadata": {},
   "outputs": [],
   "source": [
    "from scipy.stats import logistic\n",
    "import numpy as np\n",
    "import matplotlib.pyplot as plt\n",
    "from scipy.integrate import quad"
   ]
  },
  {
   "cell_type": "code",
   "execution_count": 18,
   "metadata": {},
   "outputs": [
    {
     "data": {
      "text/plain": [
       "Text(0.5, 0, 'v')"
      ]
     },
     "execution_count": 18,
     "metadata": {},
     "output_type": "execute_result"
    },
    {
     "data": {
      "image/png": "[encoded data removed]",
      "text/plain": [
       "<Figure size 432x288 with 1 Axes>"
      ]
     },
     "metadata": {
      "needs_background": "light"
     },
     "output_type": "display_data"
    }
   ],
   "source": [
    "rv = logistic(loc=2) #creating a variable rv for the distibution. This distribution is the ordinary \n",
    "#logistic distribution but shifted over by 2. I just used the logistic for this example.\n",
    "v = np.linspace(rv.ppf(0.01),\n",
    "                rv.ppf(0.99), 100) #get a range of v's\n",
    "#creating the function f. it just returns the pdf\n",
    "f = lambda v: rv.pdf(v)\n",
    "plt.plot(v, f(v)) #plotting the v's against their probability density\n",
    "plt.xlabel(\"v\") #adding a label"
   ]
  },
  {
   "cell_type": "code",
   "execution_count": 19,
   "metadata": {},
   "outputs": [
    {
     "data": {
      "text/plain": [
       "0.2689414213699951"
      ]
     },
     "execution_count": 19,
     "metadata": {},
     "output_type": "execute_result"
    }
   ],
   "source": [
    "# testing out integrating the function. effectively we are computing the CCDF\n",
    "quad(lambda v: f(v),3,np.inf)[0] #integratinig from 3 to infinity"
   ]
  },
  {
   "cell_type": "code",
   "execution_count": 15,
   "metadata": {},
   "outputs": [
    {
     "data": {
      "text/plain": [
       "0.2689414213699951"
      ]
     },
     "execution_count": 15,
     "metadata": {},
     "output_type": "execute_result"
    }
   ],
   "source": [
    "#just to check our work. we do this with integrals so we can do joint distributions later on when there's no cdf \n",
    "1 - rv.cdf(3)"
   ]
  },
  {
   "cell_type": "code",
   "execution_count": 6,
   "metadata": {},
   "outputs": [],
   "source": [
    "# setting the parameters\n",
    "θ = 0.2 #value of time\n",
    "t = 2. #travel time from champaign to chicago\n",
    "λ = 1000 #population size "
   ]
  },
  {
   "cell_type": "code",
   "execution_count": 20,
   "metadata": {},
   "outputs": [],
   "source": [
    "#creating a demand function. for a given p, we integrate from theta*t\n",
    "def Q(p):\n",
    "    return λ*quad(lambda v: f(v),t*θ+p,np.inf)[0]\n",
    "# here is the info about the quad function and how to use it: \n",
    "# https://docs.scipy.org/doc/scipy/reference/generated/scipy.integrate.quad.html"
   ]
  },
  {
   "cell_type": "code",
   "execution_count": 21,
   "metadata": {},
   "outputs": [
    {
     "data": {
      "text/plain": [
       "<matplotlib.legend.Legend at 0x1a18ca2bd0>"
      ]
     },
     "execution_count": 21,
     "metadata": {},
     "output_type": "execute_result"
    },
    {
     "data": {
      "image/png": "[encoded data removed]",
      "text/plain": [
       "<Figure size 432x288 with 1 Axes>"
      ]
     },
     "metadata": {
      "needs_background": "light"
     },
     "output_type": "display_data"
    }
   ],
   "source": [
    "# now plot the demand curve\n",
    "ps = np.linspace(0.1,3,20) #the range of p's we want too see, from 0.1 to 3\n",
    "qd = list(map(Q,ps)) #the Q value for each of the p's (this maps the function Q over the list ps)\n",
    "plt.plot(qd,ps, label=\"D\") #now we plot qd on the horizontal axis and ps on the vertical axis as the curve \"D\"\n",
    "#label the axes\n",
    "plt.xlabel(\"Q\") \n",
    "plt.ylabel(\"P\")\n",
    "plt.legend(loc=\"upper right\") #now add a legend"
   ]
  },
  {
   "cell_type": "markdown",
   "metadata": {},
   "source": [
    "This curve shows, for a given $Q$, what $P$ gets that number of passengers. Or if you read it the other way, it shows how many passengers will ride from Champaign to Chicago for a given price."
   ]
  }
 ],
 "metadata": {
  "@webio": {
   "lastCommId": null,
   "lastKernelId": null
  },
  "kernelspec": {
   "display_name": "Python 3",
   "language": "python",
   "name": "python3"
  },
  "language_info": {
   "codemirror_mode": {
    "name": "ipython",
    "version": 3
   },
   "file_extension": ".py",
   "mimetype": "text/x-python",
   "name": "python",
   "nbconvert_exporter": "python",
   "pygments_lexer": "ipython3",
   "version": "3.7.4"
  }
 },
 "nbformat": 4,
 "nbformat_minor": 2
}
